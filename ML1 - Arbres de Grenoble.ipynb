{
 "cells": [
  {
   "cell_type": "markdown",
   "metadata": {},
   "source": [
    "### Import libraries"
   ]
  },
  {
   "cell_type": "code",
   "execution_count": 2,
   "metadata": {},
   "outputs": [],
   "source": [
    "import numpy as np\n",
    "import pandas as pd\n",
    "import matplotlib.pyplot as plt\n",
    "import seaborn as sns"
   ]
  },
  {
   "cell_type": "markdown",
   "metadata": {},
   "source": [
    "#### Import data"
   ]
  },
  {
   "cell_type": "code",
   "execution_count": 6,
   "metadata": {},
   "outputs": [],
   "source": [
    "data = pd.read_csv('../ML1/arbres_grenoble_epsg4326.csv')"
   ]
  },
  {
   "cell_type": "code",
   "execution_count": 9,
   "metadata": {},
   "outputs": [
    {
     "data": {
      "text/html": [
       "<div>\n",
       "<style scoped>\n",
       "    .dataframe tbody tr th:only-of-type {\n",
       "        vertical-align: middle;\n",
       "    }\n",
       "\n",
       "    .dataframe tbody tr th {\n",
       "        vertical-align: top;\n",
       "    }\n",
       "\n",
       "    .dataframe thead th {\n",
       "        text-align: right;\n",
       "    }\n",
       "</style>\n",
       "<table border=\"1\" class=\"dataframe\">\n",
       "  <thead>\n",
       "    <tr style=\"text-align: right;\">\n",
       "      <th></th>\n",
       "      <th>elem_point_id</th>\n",
       "      <th>code</th>\n",
       "      <th>nom</th>\n",
       "      <th>genre</th>\n",
       "      <th>genre_desc</th>\n",
       "      <th>categorie</th>\n",
       "      <th>categorie_desc</th>\n",
       "      <th>sous_categorie</th>\n",
       "      <th>sous_categorie_desc</th>\n",
       "      <th>code_parent</th>\n",
       "      <th>...</th>\n",
       "      <th>diametrearbre</th>\n",
       "      <th>causeabattage</th>\n",
       "      <th>collectivite</th>\n",
       "      <th>stationmetro</th>\n",
       "      <th>hauteurarbre</th>\n",
       "      <th>portarbre</th>\n",
       "      <th>structure</th>\n",
       "      <th>forme</th>\n",
       "      <th>typenature</th>\n",
       "      <th>geo_point_2d</th>\n",
       "    </tr>\n",
       "  </thead>\n",
       "  <tbody>\n",
       "    <tr>\n",
       "      <th>0</th>\n",
       "      <td>5259</td>\n",
       "      <td>ESP11324</td>\n",
       "      <td>AR11324</td>\n",
       "      <td>VEG</td>\n",
       "      <td>VEGETATION</td>\n",
       "      <td>ESP01</td>\n",
       "      <td>Arbre</td>\n",
       "      <td>ESP151</td>\n",
       "      <td>Arbre de voirie</td>\n",
       "      <td>ESP175</td>\n",
       "      <td>...</td>\n",
       "      <td>NaN</td>\n",
       "      <td>NaN</td>\n",
       "      <td>Grenoble Alpes Métropole</td>\n",
       "      <td>NaN</td>\n",
       "      <td>NaN</td>\n",
       "      <td>NaN</td>\n",
       "      <td>Métropole de Grenoble</td>\n",
       "      <td>Tige</td>\n",
       "      <td>NaN</td>\n",
       "      <td>45.175673908288694,5.749421158918044</td>\n",
       "    </tr>\n",
       "    <tr>\n",
       "      <th>1</th>\n",
       "      <td>1478</td>\n",
       "      <td>ESP27796</td>\n",
       "      <td>AR27796</td>\n",
       "      <td>VEG</td>\n",
       "      <td>VEGETATION</td>\n",
       "      <td>ESP01</td>\n",
       "      <td>Arbre</td>\n",
       "      <td>ESP151</td>\n",
       "      <td>Arbre de voirie</td>\n",
       "      <td>ESP175</td>\n",
       "      <td>...</td>\n",
       "      <td>NaN</td>\n",
       "      <td>NaN</td>\n",
       "      <td>Grenoble Alpes Métropole</td>\n",
       "      <td>NaN</td>\n",
       "      <td>NaN</td>\n",
       "      <td>NaN</td>\n",
       "      <td>Métropole de Grenoble</td>\n",
       "      <td>Tige</td>\n",
       "      <td>NaN</td>\n",
       "      <td>45.175689031385716,5.749449836814956</td>\n",
       "    </tr>\n",
       "    <tr>\n",
       "      <th>2</th>\n",
       "      <td>13139</td>\n",
       "      <td>ESP4323</td>\n",
       "      <td>AR4323</td>\n",
       "      <td>VEG</td>\n",
       "      <td>VEGETATION</td>\n",
       "      <td>ESP01</td>\n",
       "      <td>Arbre</td>\n",
       "      <td>ESP174</td>\n",
       "      <td>Arbre d'espaces ouverts</td>\n",
       "      <td>ESP1009</td>\n",
       "      <td>...</td>\n",
       "      <td>NaN</td>\n",
       "      <td>NaN</td>\n",
       "      <td>Grenoble Alpes Métropole</td>\n",
       "      <td>NaN</td>\n",
       "      <td>de 10 m à 20 m</td>\n",
       "      <td>Libre</td>\n",
       "      <td>Métropole de Grenoble</td>\n",
       "      <td>NaN</td>\n",
       "      <td>Libre</td>\n",
       "      <td>45.175403375194556,5.748482643586666</td>\n",
       "    </tr>\n",
       "    <tr>\n",
       "      <th>3</th>\n",
       "      <td>24132</td>\n",
       "      <td>ESP7132</td>\n",
       "      <td>AR7132</td>\n",
       "      <td>VEG</td>\n",
       "      <td>VEGETATION</td>\n",
       "      <td>ESP01</td>\n",
       "      <td>Arbre</td>\n",
       "      <td>ESP174</td>\n",
       "      <td>Arbre d'espaces ouverts</td>\n",
       "      <td>ESP1009</td>\n",
       "      <td>...</td>\n",
       "      <td>NaN</td>\n",
       "      <td>NaN</td>\n",
       "      <td>Ville de Grenoble</td>\n",
       "      <td>NaN</td>\n",
       "      <td>de 10 m à 20 m</td>\n",
       "      <td>NaN</td>\n",
       "      <td>Ville de Grenoble</td>\n",
       "      <td>NaN</td>\n",
       "      <td>NaN</td>\n",
       "      <td>45.17542427590123,5.748557574259692</td>\n",
       "    </tr>\n",
       "    <tr>\n",
       "      <th>4</th>\n",
       "      <td>23970</td>\n",
       "      <td>ESP15162</td>\n",
       "      <td>AR15162</td>\n",
       "      <td>VEG</td>\n",
       "      <td>VEGETATION</td>\n",
       "      <td>ESP01</td>\n",
       "      <td>Arbre</td>\n",
       "      <td>ESP174</td>\n",
       "      <td>Arbre d'espaces ouverts</td>\n",
       "      <td>ESP625</td>\n",
       "      <td>...</td>\n",
       "      <td>NaN</td>\n",
       "      <td>NaN</td>\n",
       "      <td>Ville de Grenoble</td>\n",
       "      <td>NaN</td>\n",
       "      <td>Moins de 10 m</td>\n",
       "      <td>NaN</td>\n",
       "      <td>Ville de Grenoble</td>\n",
       "      <td>NaN</td>\n",
       "      <td>NaN</td>\n",
       "      <td>45.17760812265083,5.749356960358159</td>\n",
       "    </tr>\n",
       "  </tbody>\n",
       "</table>\n",
       "<p>5 rows × 38 columns</p>\n",
       "</div>"
      ],
      "text/plain": [
       "   elem_point_id      code      nom genre  genre_desc categorie  \\\n",
       "0           5259  ESP11324  AR11324   VEG  VEGETATION     ESP01   \n",
       "1           1478  ESP27796  AR27796   VEG  VEGETATION     ESP01   \n",
       "2          13139   ESP4323   AR4323   VEG  VEGETATION     ESP01   \n",
       "3          24132   ESP7132   AR7132   VEG  VEGETATION     ESP01   \n",
       "4          23970  ESP15162  AR15162   VEG  VEGETATION     ESP01   \n",
       "\n",
       "  categorie_desc sous_categorie      sous_categorie_desc code_parent  ...  \\\n",
       "0          Arbre         ESP151          Arbre de voirie      ESP175  ...   \n",
       "1          Arbre         ESP151          Arbre de voirie      ESP175  ...   \n",
       "2          Arbre         ESP174  Arbre d'espaces ouverts     ESP1009  ...   \n",
       "3          Arbre         ESP174  Arbre d'espaces ouverts     ESP1009  ...   \n",
       "4          Arbre         ESP174  Arbre d'espaces ouverts      ESP625  ...   \n",
       "\n",
       "  diametrearbre  causeabattage              collectivite stationmetro  \\\n",
       "0           NaN            NaN  Grenoble Alpes Métropole          NaN   \n",
       "1           NaN            NaN  Grenoble Alpes Métropole          NaN   \n",
       "2           NaN            NaN  Grenoble Alpes Métropole          NaN   \n",
       "3           NaN            NaN         Ville de Grenoble          NaN   \n",
       "4           NaN            NaN         Ville de Grenoble          NaN   \n",
       "\n",
       "     hauteurarbre portarbre              structure  forme typenature  \\\n",
       "0             NaN       NaN  Métropole de Grenoble   Tige        NaN   \n",
       "1             NaN       NaN  Métropole de Grenoble   Tige        NaN   \n",
       "2  de 10 m à 20 m     Libre  Métropole de Grenoble    NaN      Libre   \n",
       "3  de 10 m à 20 m       NaN      Ville de Grenoble    NaN        NaN   \n",
       "4   Moins de 10 m       NaN      Ville de Grenoble    NaN        NaN   \n",
       "\n",
       "                           geo_point_2d  \n",
       "0  45.175673908288694,5.749421158918044  \n",
       "1  45.175689031385716,5.749449836814956  \n",
       "2  45.175403375194556,5.748482643586666  \n",
       "3   45.17542427590123,5.748557574259692  \n",
       "4   45.17760812265083,5.749356960358159  \n",
       "\n",
       "[5 rows x 38 columns]"
      ]
     },
     "execution_count": 9,
     "metadata": {},
     "output_type": "execute_result"
    }
   ],
   "source": [
    "data.head(5)"
   ]
  },
  {
   "cell_type": "code",
   "execution_count": 11,
   "metadata": {},
   "outputs": [
    {
     "data": {
      "text/plain": [
       "Index(['elem_point_id', 'code', 'nom', 'genre', 'genre_desc', 'categorie',\n",
       "       'categorie_desc', 'sous_categorie', 'sous_categorie_desc',\n",
       "       'code_parent', 'code_parent_desc', 'adr_secteur', 'bien_reference',\n",
       "       'genre_bota', 'espece', 'variete', 'stadededeveloppement', 'equipe',\n",
       "       'remarques', 'anneedeplantation', 'raisondeplantation',\n",
       "       'traitementchenilles', 'courrier', 'identifiantplu',\n",
       "       'typeimplantationplu', 'intituleprotectionplu', 'anneeabattage',\n",
       "       'essouchement', 'diametrearbre', 'causeabattage', 'collectivite',\n",
       "       'stationmetro', 'hauteurarbre', 'portarbre', 'structure', 'forme',\n",
       "       'typenature', 'geo_point_2d'],\n",
       "      dtype='object')"
      ]
     },
     "execution_count": 11,
     "metadata": {},
     "output_type": "execute_result"
    }
   ],
   "source": [
    "data.columns"
   ]
  },
  {
   "cell_type": "markdown",
   "metadata": {},
   "source": [
    "Variable 'annee de plantation'"
   ]
  },
  {
   "cell_type": "code",
   "execution_count": 37,
   "metadata": {},
   "outputs": [],
   "source": [
    "#garder la variable initiale 'data' sans aucun changement\n",
    "arbres_gre = data"
   ]
  },
  {
   "cell_type": "code",
   "execution_count": 38,
   "metadata": {},
   "outputs": [
    {
     "data": {
      "text/html": [
       "<div>\n",
       "<style scoped>\n",
       "    .dataframe tbody tr th:only-of-type {\n",
       "        vertical-align: middle;\n",
       "    }\n",
       "\n",
       "    .dataframe tbody tr th {\n",
       "        vertical-align: top;\n",
       "    }\n",
       "\n",
       "    .dataframe thead th {\n",
       "        text-align: right;\n",
       "    }\n",
       "</style>\n",
       "<table border=\"1\" class=\"dataframe\">\n",
       "  <thead>\n",
       "    <tr style=\"text-align: right;\">\n",
       "      <th></th>\n",
       "      <th>elem_point_id</th>\n",
       "      <th>adr_secteur</th>\n",
       "      <th>equipe</th>\n",
       "      <th>anneedeplantation</th>\n",
       "      <th>courrier</th>\n",
       "      <th>identifiantplu</th>\n",
       "      <th>anneeabattage</th>\n",
       "      <th>essouchement</th>\n",
       "      <th>diametrearbre</th>\n",
       "      <th>causeabattage</th>\n",
       "    </tr>\n",
       "  </thead>\n",
       "  <tbody>\n",
       "    <tr>\n",
       "      <th>count</th>\n",
       "      <td>31736.000000</td>\n",
       "      <td>31736.000000</td>\n",
       "      <td>0.0</td>\n",
       "      <td>30144.000000</td>\n",
       "      <td>0.0</td>\n",
       "      <td>600.000000</td>\n",
       "      <td>0.0</td>\n",
       "      <td>0.0</td>\n",
       "      <td>0.0</td>\n",
       "      <td>0.0</td>\n",
       "    </tr>\n",
       "    <tr>\n",
       "      <th>mean</th>\n",
       "      <td>20393.645544</td>\n",
       "      <td>3.826758</td>\n",
       "      <td>NaN</td>\n",
       "      <td>1990.018644</td>\n",
       "      <td>NaN</td>\n",
       "      <td>87.856667</td>\n",
       "      <td>NaN</td>\n",
       "      <td>NaN</td>\n",
       "      <td>NaN</td>\n",
       "      <td>NaN</td>\n",
       "    </tr>\n",
       "    <tr>\n",
       "      <th>std</th>\n",
       "      <td>12759.662993</td>\n",
       "      <td>1.718467</td>\n",
       "      <td>NaN</td>\n",
       "      <td>17.992314</td>\n",
       "      <td>NaN</td>\n",
       "      <td>60.657935</td>\n",
       "      <td>NaN</td>\n",
       "      <td>NaN</td>\n",
       "      <td>NaN</td>\n",
       "      <td>NaN</td>\n",
       "    </tr>\n",
       "    <tr>\n",
       "      <th>min</th>\n",
       "      <td>1.000000</td>\n",
       "      <td>1.000000</td>\n",
       "      <td>NaN</td>\n",
       "      <td>1900.000000</td>\n",
       "      <td>NaN</td>\n",
       "      <td>2.000000</td>\n",
       "      <td>NaN</td>\n",
       "      <td>NaN</td>\n",
       "      <td>NaN</td>\n",
       "      <td>NaN</td>\n",
       "    </tr>\n",
       "    <tr>\n",
       "      <th>25%</th>\n",
       "      <td>9656.750000</td>\n",
       "      <td>2.000000</td>\n",
       "      <td>NaN</td>\n",
       "      <td>1975.000000</td>\n",
       "      <td>NaN</td>\n",
       "      <td>67.000000</td>\n",
       "      <td>NaN</td>\n",
       "      <td>NaN</td>\n",
       "      <td>NaN</td>\n",
       "      <td>NaN</td>\n",
       "    </tr>\n",
       "    <tr>\n",
       "      <th>50%</th>\n",
       "      <td>19424.500000</td>\n",
       "      <td>4.000000</td>\n",
       "      <td>NaN</td>\n",
       "      <td>1987.000000</td>\n",
       "      <td>NaN</td>\n",
       "      <td>70.000000</td>\n",
       "      <td>NaN</td>\n",
       "      <td>NaN</td>\n",
       "      <td>NaN</td>\n",
       "      <td>NaN</td>\n",
       "    </tr>\n",
       "    <tr>\n",
       "      <th>75%</th>\n",
       "      <td>29254.250000</td>\n",
       "      <td>5.000000</td>\n",
       "      <td>NaN</td>\n",
       "      <td>2006.000000</td>\n",
       "      <td>NaN</td>\n",
       "      <td>70.000000</td>\n",
       "      <td>NaN</td>\n",
       "      <td>NaN</td>\n",
       "      <td>NaN</td>\n",
       "      <td>NaN</td>\n",
       "    </tr>\n",
       "    <tr>\n",
       "      <th>max</th>\n",
       "      <td>46807.000000</td>\n",
       "      <td>6.000000</td>\n",
       "      <td>NaN</td>\n",
       "      <td>2022.000000</td>\n",
       "      <td>NaN</td>\n",
       "      <td>358.000000</td>\n",
       "      <td>NaN</td>\n",
       "      <td>NaN</td>\n",
       "      <td>NaN</td>\n",
       "      <td>NaN</td>\n",
       "    </tr>\n",
       "  </tbody>\n",
       "</table>\n",
       "</div>"
      ],
      "text/plain": [
       "       elem_point_id   adr_secteur  equipe  anneedeplantation  courrier  \\\n",
       "count   31736.000000  31736.000000     0.0       30144.000000       0.0   \n",
       "mean    20393.645544      3.826758     NaN        1990.018644       NaN   \n",
       "std     12759.662993      1.718467     NaN          17.992314       NaN   \n",
       "min         1.000000      1.000000     NaN        1900.000000       NaN   \n",
       "25%      9656.750000      2.000000     NaN        1975.000000       NaN   \n",
       "50%     19424.500000      4.000000     NaN        1987.000000       NaN   \n",
       "75%     29254.250000      5.000000     NaN        2006.000000       NaN   \n",
       "max     46807.000000      6.000000     NaN        2022.000000       NaN   \n",
       "\n",
       "       identifiantplu  anneeabattage  essouchement  diametrearbre  \\\n",
       "count      600.000000            0.0           0.0            0.0   \n",
       "mean        87.856667            NaN           NaN            NaN   \n",
       "std         60.657935            NaN           NaN            NaN   \n",
       "min          2.000000            NaN           NaN            NaN   \n",
       "25%         67.000000            NaN           NaN            NaN   \n",
       "50%         70.000000            NaN           NaN            NaN   \n",
       "75%         70.000000            NaN           NaN            NaN   \n",
       "max        358.000000            NaN           NaN            NaN   \n",
       "\n",
       "       causeabattage  \n",
       "count            0.0  \n",
       "mean             NaN  \n",
       "std              NaN  \n",
       "min              NaN  \n",
       "25%              NaN  \n",
       "50%              NaN  \n",
       "75%              NaN  \n",
       "max              NaN  "
      ]
     },
     "execution_count": 38,
     "metadata": {},
     "output_type": "execute_result"
    }
   ],
   "source": [
    "arbres_gre.describe()"
   ]
  },
  {
   "cell_type": "code",
   "execution_count": 39,
   "metadata": {},
   "outputs": [
    {
     "data": {
      "text/plain": [
       "array([1975., 2009., 1970.,   nan, 1995., 2022., 1993., 1988., 1980.,\n",
       "       2005., 2006., 1978., 1965., 2007., 2010., 1982., 1950., 1955.,\n",
       "       1981., 1971., 2001., 1990., 1977., 1960., 1944., 1991., 2012.,\n",
       "       1992., 1986., 2004., 1924., 1999., 1998., 1979., 2003., 2002.,\n",
       "       1987., 1996., 2000., 1994., 2011., 1984., 1983., 1976., 1985.,\n",
       "       1966., 1989., 1972., 2008., 1969., 1968., 1997., 2013., 2016.,\n",
       "       2018., 2015., 2017., 2019., 2020., 1967., 1973., 1974., 2021.,\n",
       "       2014., 1900., 1959., 1964.])"
      ]
     },
     "execution_count": 39,
     "metadata": {},
     "output_type": "execute_result"
    }
   ],
   "source": [
    "# identifying the existence of nan values or non numeric (.info())\n",
    "arbres_gre['anneedeplantation'].unique()"
   ]
  },
  {
   "cell_type": "code",
   "execution_count": 40,
   "metadata": {},
   "outputs": [],
   "source": [
    "# Dropping nan values on the annedeplantation column\n",
    "# dropping unnecessary columns (checked down when using describe)\n",
    "arbres_gre = (arbres_gre.dropna(subset='anneedeplantation')\n",
    "                        .drop(['equipe','courrier','anneeabattage',\n",
    "       'essouchement', 'diametrearbre', 'causeabattage'], axis=1)\n",
    "              \n",
    ")"
   ]
  },
  {
   "cell_type": "code",
   "execution_count": 42,
   "metadata": {},
   "outputs": [
    {
     "data": {
      "text/plain": [
       "Index(['elem_point_id', 'code', 'nom', 'genre', 'genre_desc', 'categorie',\n",
       "       'categorie_desc', 'sous_categorie', 'sous_categorie_desc',\n",
       "       'code_parent', 'code_parent_desc', 'adr_secteur', 'bien_reference',\n",
       "       'genre_bota', 'espece', 'variete', 'stadededeveloppement', 'remarques',\n",
       "       'anneedeplantation', 'raisondeplantation', 'traitementchenilles',\n",
       "       'identifiantplu', 'typeimplantationplu', 'intituleprotectionplu',\n",
       "       'collectivite', 'stationmetro', 'hauteurarbre', 'portarbre',\n",
       "       'structure', 'forme', 'typenature', 'geo_point_2d'],\n",
       "      dtype='object')"
      ]
     },
     "execution_count": 42,
     "metadata": {},
     "output_type": "execute_result"
    }
   ],
   "source": [
    "arbres_gre.columns"
   ]
  },
  {
   "cell_type": "code",
   "execution_count": 43,
   "metadata": {},
   "outputs": [
    {
     "data": {
      "text/plain": [
       "array([1975., 2009., 1970., 1995., 2022., 1993., 1988., 1980., 2005.,\n",
       "       2006., 1978., 1965., 2007., 2010., 1982., 1950., 1955., 1981.,\n",
       "       1971., 2001., 1990., 1977., 1960., 1944., 1991., 2012., 1992.,\n",
       "       1986., 2004., 1924., 1999., 1998., 1979., 2003., 2002., 1987.,\n",
       "       1996., 2000., 1994., 2011., 1984., 1983., 1976., 1985., 1966.,\n",
       "       1989., 1972., 2008., 1969., 1968., 1997., 2013., 2016., 2018.,\n",
       "       2015., 2017., 2019., 2020., 1967., 1973., 1974., 2021., 2014.,\n",
       "       1900., 1959., 1964.])"
      ]
     },
     "execution_count": 43,
     "metadata": {},
     "output_type": "execute_result"
    }
   ],
   "source": [
    "#checking if nans were dropped\n",
    "arbres_gre['anneedeplantation'].unique()"
   ]
  },
  {
   "cell_type": "code",
   "execution_count": 44,
   "metadata": {},
   "outputs": [
    {
     "data": {
      "text/plain": [
       "anneedeplantation\n",
       "1975.0    3481\n",
       "2001.0    1473\n",
       "1980.0    1397\n",
       "1970.0    1340\n",
       "2015.0     998\n",
       "          ... \n",
       "1944.0      26\n",
       "1959.0      16\n",
       "1924.0      11\n",
       "1964.0       6\n",
       "2021.0       4\n",
       "Name: count, Length: 66, dtype: int64"
      ]
     },
     "execution_count": 44,
     "metadata": {},
     "output_type": "execute_result"
    }
   ],
   "source": [
    "#checking number of years\n",
    "arbres_gre['anneedeplantation'].value_counts()"
   ]
  },
  {
   "cell_type": "code",
   "execution_count": 45,
   "metadata": {},
   "outputs": [
    {
     "data": {
      "image/png": "[encoded data removed]",
      "text/plain": [
       "<Figure size 2000x1500 with 4 Axes>"
      ]
     },
     "metadata": {},
     "output_type": "display_data"
    }
   ],
   "source": [
    "arbres_gre.hist(bins=50, figsize=(20,15))\n",
    "plt.show()"
   ]
  }
 ],
 "metadata": {
  "kernelspec": {
   "display_name": "stat3",
   "language": "python",
   "name": "python3"
  },
  "language_info": {
   "codemirror_mode": {
    "name": "ipython",
    "version": 3
   },
   "file_extension": ".py",
   "mimetype": "text/x-python",
   "name": "python",
   "nbconvert_exporter": "python",
   "pygments_lexer": "ipython3",
   "version": "3.11.5"
  }
 },
 "nbformat": 4,
 "nbformat_minor": 2
}
