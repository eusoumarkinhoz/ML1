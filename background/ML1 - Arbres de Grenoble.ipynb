{
 "cells": [
  {
   "cell_type": "markdown",
   "metadata": {},
   "source": [
    "### Import libraries"
   ]
  },
  {
   "cell_type": "code",
   "execution_count": 158,
   "metadata": {},
   "outputs": [
    {
     "name": "stdout",
     "output_type": "stream",
     "text": [
      "Requirement already satisfied: scikit-learn in /home/marcos.centurion@Digital-Grenoble.local/anaconda3/envs/stat3/lib/python3.11/site-packages (1.3.2)\n",
      "Requirement already satisfied: numpy<2.0,>=1.17.3 in /home/marcos.centurion@Digital-Grenoble.local/anaconda3/envs/stat3/lib/python3.11/site-packages (from scikit-learn) (1.26.2)\n",
      "Requirement already satisfied: scipy>=1.5.0 in /home/marcos.centurion@Digital-Grenoble.local/anaconda3/envs/stat3/lib/python3.11/site-packages (from scikit-learn) (1.11.3)\n",
      "Requirement already satisfied: joblib>=1.1.1 in /home/marcos.centurion@Digital-Grenoble.local/anaconda3/envs/stat3/lib/python3.11/site-packages (from scikit-learn) (1.3.2)\n",
      "Requirement already satisfied: threadpoolctl>=2.0.0 in /home/marcos.centurion@Digital-Grenoble.local/anaconda3/envs/stat3/lib/python3.11/site-packages (from scikit-learn) (3.2.0)\n"
     ]
    }
   ],
   "source": [
    "import numpy as np\n",
    "import pandas as pd\n",
    "import matplotlib.pyplot as plt\n",
    "import seaborn as sns\n",
    "!pip install scikit-learn\n",
    "import sklearn as sk"
   ]
  },
  {
   "cell_type": "markdown",
   "metadata": {},
   "source": [
    "## Step 1 : Import and cleaning\n",
    "_______________________________________________________"
   ]
  },
  {
   "cell_type": "markdown",
   "metadata": {},
   "source": [
    "#### 1.1 Import data (1/4)"
   ]
  },
  {
   "cell_type": "code",
   "execution_count": 159,
   "metadata": {},
   "outputs": [],
   "source": [
    "data = pd.read_csv('../ML1/arbres_grenoble_epsg4326.csv')"
   ]
  },
  {
   "cell_type": "code",
   "execution_count": 160,
   "metadata": {},
   "outputs": [
    {
     "data": {
      "text/html": [
       "<div>\n",
       "<style scoped>\n",
       "    .dataframe tbody tr th:only-of-type {\n",
       "        vertical-align: middle;\n",
       "    }\n",
       "\n",
       "    .dataframe tbody tr th {\n",
       "        vertical-align: top;\n",
       "    }\n",
       "\n",
       "    .dataframe thead th {\n",
       "        text-align: right;\n",
       "    }\n",
       "</style>\n",
       "<table border=\"1\" class=\"dataframe\">\n",
       "  <thead>\n",
       "    <tr style=\"text-align: right;\">\n",
       "      <th></th>\n",
       "      <th>elem_point_id</th>\n",
       "      <th>code</th>\n",
       "      <th>nom</th>\n",
       "      <th>genre</th>\n",
       "      <th>genre_desc</th>\n",
       "      <th>categorie</th>\n",
       "      <th>categorie_desc</th>\n",
       "      <th>sous_categorie</th>\n",
       "      <th>sous_categorie_desc</th>\n",
       "      <th>code_parent</th>\n",
       "      <th>...</th>\n",
       "      <th>diametrearbre</th>\n",
       "      <th>causeabattage</th>\n",
       "      <th>collectivite</th>\n",
       "      <th>stationmetro</th>\n",
       "      <th>hauteurarbre</th>\n",
       "      <th>portarbre</th>\n",
       "      <th>structure</th>\n",
       "      <th>forme</th>\n",
       "      <th>typenature</th>\n",
       "      <th>geo_point_2d</th>\n",
       "    </tr>\n",
       "  </thead>\n",
       "  <tbody>\n",
       "    <tr>\n",
       "      <th>0</th>\n",
       "      <td>5259</td>\n",
       "      <td>ESP11324</td>\n",
       "      <td>AR11324</td>\n",
       "      <td>VEG</td>\n",
       "      <td>VEGETATION</td>\n",
       "      <td>ESP01</td>\n",
       "      <td>Arbre</td>\n",
       "      <td>ESP151</td>\n",
       "      <td>Arbre de voirie</td>\n",
       "      <td>ESP175</td>\n",
       "      <td>...</td>\n",
       "      <td>NaN</td>\n",
       "      <td>NaN</td>\n",
       "      <td>Grenoble Alpes Métropole</td>\n",
       "      <td>NaN</td>\n",
       "      <td>NaN</td>\n",
       "      <td>NaN</td>\n",
       "      <td>Métropole de Grenoble</td>\n",
       "      <td>Tige</td>\n",
       "      <td>NaN</td>\n",
       "      <td>45.175673908288694,5.749421158918044</td>\n",
       "    </tr>\n",
       "    <tr>\n",
       "      <th>1</th>\n",
       "      <td>1478</td>\n",
       "      <td>ESP27796</td>\n",
       "      <td>AR27796</td>\n",
       "      <td>VEG</td>\n",
       "      <td>VEGETATION</td>\n",
       "      <td>ESP01</td>\n",
       "      <td>Arbre</td>\n",
       "      <td>ESP151</td>\n",
       "      <td>Arbre de voirie</td>\n",
       "      <td>ESP175</td>\n",
       "      <td>...</td>\n",
       "      <td>NaN</td>\n",
       "      <td>NaN</td>\n",
       "      <td>Grenoble Alpes Métropole</td>\n",
       "      <td>NaN</td>\n",
       "      <td>NaN</td>\n",
       "      <td>NaN</td>\n",
       "      <td>Métropole de Grenoble</td>\n",
       "      <td>Tige</td>\n",
       "      <td>NaN</td>\n",
       "      <td>45.175689031385716,5.749449836814956</td>\n",
       "    </tr>\n",
       "    <tr>\n",
       "      <th>2</th>\n",
       "      <td>13139</td>\n",
       "      <td>ESP4323</td>\n",
       "      <td>AR4323</td>\n",
       "      <td>VEG</td>\n",
       "      <td>VEGETATION</td>\n",
       "      <td>ESP01</td>\n",
       "      <td>Arbre</td>\n",
       "      <td>ESP174</td>\n",
       "      <td>Arbre d'espaces ouverts</td>\n",
       "      <td>ESP1009</td>\n",
       "      <td>...</td>\n",
       "      <td>NaN</td>\n",
       "      <td>NaN</td>\n",
       "      <td>Grenoble Alpes Métropole</td>\n",
       "      <td>NaN</td>\n",
       "      <td>de 10 m à 20 m</td>\n",
       "      <td>Libre</td>\n",
       "      <td>Métropole de Grenoble</td>\n",
       "      <td>NaN</td>\n",
       "      <td>Libre</td>\n",
       "      <td>45.175403375194556,5.748482643586666</td>\n",
       "    </tr>\n",
       "    <tr>\n",
       "      <th>3</th>\n",
       "      <td>24132</td>\n",
       "      <td>ESP7132</td>\n",
       "      <td>AR7132</td>\n",
       "      <td>VEG</td>\n",
       "      <td>VEGETATION</td>\n",
       "      <td>ESP01</td>\n",
       "      <td>Arbre</td>\n",
       "      <td>ESP174</td>\n",
       "      <td>Arbre d'espaces ouverts</td>\n",
       "      <td>ESP1009</td>\n",
       "      <td>...</td>\n",
       "      <td>NaN</td>\n",
       "      <td>NaN</td>\n",
       "      <td>Ville de Grenoble</td>\n",
       "      <td>NaN</td>\n",
       "      <td>de 10 m à 20 m</td>\n",
       "      <td>NaN</td>\n",
       "      <td>Ville de Grenoble</td>\n",
       "      <td>NaN</td>\n",
       "      <td>NaN</td>\n",
       "      <td>45.17542427590123,5.748557574259692</td>\n",
       "    </tr>\n",
       "    <tr>\n",
       "      <th>4</th>\n",
       "      <td>23970</td>\n",
       "      <td>ESP15162</td>\n",
       "      <td>AR15162</td>\n",
       "      <td>VEG</td>\n",
       "      <td>VEGETATION</td>\n",
       "      <td>ESP01</td>\n",
       "      <td>Arbre</td>\n",
       "      <td>ESP174</td>\n",
       "      <td>Arbre d'espaces ouverts</td>\n",
       "      <td>ESP625</td>\n",
       "      <td>...</td>\n",
       "      <td>NaN</td>\n",
       "      <td>NaN</td>\n",
       "      <td>Ville de Grenoble</td>\n",
       "      <td>NaN</td>\n",
       "      <td>Moins de 10 m</td>\n",
       "      <td>NaN</td>\n",
       "      <td>Ville de Grenoble</td>\n",
       "      <td>NaN</td>\n",
       "      <td>NaN</td>\n",
       "      <td>45.17760812265083,5.749356960358159</td>\n",
       "    </tr>\n",
       "  </tbody>\n",
       "</table>\n",
       "<p>5 rows × 38 columns</p>\n",
       "</div>"
      ],
      "text/plain": [
       "   elem_point_id      code      nom genre  genre_desc categorie  \\\n",
       "0           5259  ESP11324  AR11324   VEG  VEGETATION     ESP01   \n",
       "1           1478  ESP27796  AR27796   VEG  VEGETATION     ESP01   \n",
       "2          13139   ESP4323   AR4323   VEG  VEGETATION     ESP01   \n",
       "3          24132   ESP7132   AR7132   VEG  VEGETATION     ESP01   \n",
       "4          23970  ESP15162  AR15162   VEG  VEGETATION     ESP01   \n",
       "\n",
       "  categorie_desc sous_categorie      sous_categorie_desc code_parent  ...  \\\n",
       "0          Arbre         ESP151          Arbre de voirie      ESP175  ...   \n",
       "1          Arbre         ESP151          Arbre de voirie      ESP175  ...   \n",
       "2          Arbre         ESP174  Arbre d'espaces ouverts     ESP1009  ...   \n",
       "3          Arbre         ESP174  Arbre d'espaces ouverts     ESP1009  ...   \n",
       "4          Arbre         ESP174  Arbre d'espaces ouverts      ESP625  ...   \n",
       "\n",
       "  diametrearbre  causeabattage              collectivite stationmetro  \\\n",
       "0           NaN            NaN  Grenoble Alpes Métropole          NaN   \n",
       "1           NaN            NaN  Grenoble Alpes Métropole          NaN   \n",
       "2           NaN            NaN  Grenoble Alpes Métropole          NaN   \n",
       "3           NaN            NaN         Ville de Grenoble          NaN   \n",
       "4           NaN            NaN         Ville de Grenoble          NaN   \n",
       "\n",
       "     hauteurarbre portarbre              structure  forme typenature  \\\n",
       "0             NaN       NaN  Métropole de Grenoble   Tige        NaN   \n",
       "1             NaN       NaN  Métropole de Grenoble   Tige        NaN   \n",
       "2  de 10 m à 20 m     Libre  Métropole de Grenoble    NaN      Libre   \n",
       "3  de 10 m à 20 m       NaN      Ville de Grenoble    NaN        NaN   \n",
       "4   Moins de 10 m       NaN      Ville de Grenoble    NaN        NaN   \n",
       "\n",
       "                           geo_point_2d  \n",
       "0  45.175673908288694,5.749421158918044  \n",
       "1  45.175689031385716,5.749449836814956  \n",
       "2  45.175403375194556,5.748482643586666  \n",
       "3   45.17542427590123,5.748557574259692  \n",
       "4   45.17760812265083,5.749356960358159  \n",
       "\n",
       "[5 rows x 38 columns]"
      ]
     },
     "execution_count": 160,
     "metadata": {},
     "output_type": "execute_result"
    }
   ],
   "source": [
    "data.head(5)"
   ]
  },
  {
   "cell_type": "code",
   "execution_count": 161,
   "metadata": {},
   "outputs": [
    {
     "data": {
      "text/plain": [
       "Index(['elem_point_id', 'code', 'nom', 'genre', 'genre_desc', 'categorie',\n",
       "       'categorie_desc', 'sous_categorie', 'sous_categorie_desc',\n",
       "       'code_parent', 'code_parent_desc', 'adr_secteur', 'bien_reference',\n",
       "       'genre_bota', 'espece', 'variete', 'stadededeveloppement', 'equipe',\n",
       "       'remarques', 'anneedeplantation', 'raisondeplantation',\n",
       "       'traitementchenilles', 'courrier', 'identifiantplu',\n",
       "       'typeimplantationplu', 'intituleprotectionplu', 'anneeabattage',\n",
       "       'essouchement', 'diametrearbre', 'causeabattage', 'collectivite',\n",
       "       'stationmetro', 'hauteurarbre', 'portarbre', 'structure', 'forme',\n",
       "       'typenature', 'geo_point_2d'],\n",
       "      dtype='object')"
      ]
     },
     "execution_count": 161,
     "metadata": {},
     "output_type": "execute_result"
    }
   ],
   "source": [
    "data.columns"
   ]
  },
  {
   "cell_type": "code",
   "execution_count": 162,
   "metadata": {},
   "outputs": [],
   "source": [
    "#garder la variable initiale 'data' sans aucun changement\n",
    "arbres_gre = data"
   ]
  },
  {
   "cell_type": "markdown",
   "metadata": {},
   "source": [
    "#### 1.2 and 1.3. Delete rows with missing values in «année de plantation» and analyss of data structure (3/4)"
   ]
  },
  {
   "cell_type": "code",
   "execution_count": 163,
   "metadata": {},
   "outputs": [
    {
     "data": {
      "text/html": [
       "<div>\n",
       "<style scoped>\n",
       "    .dataframe tbody tr th:only-of-type {\n",
       "        vertical-align: middle;\n",
       "    }\n",
       "\n",
       "    .dataframe tbody tr th {\n",
       "        vertical-align: top;\n",
       "    }\n",
       "\n",
       "    .dataframe thead th {\n",
       "        text-align: right;\n",
       "    }\n",
       "</style>\n",
       "<table border=\"1\" class=\"dataframe\">\n",
       "  <thead>\n",
       "    <tr style=\"text-align: right;\">\n",
       "      <th></th>\n",
       "      <th>elem_point_id</th>\n",
       "      <th>adr_secteur</th>\n",
       "      <th>equipe</th>\n",
       "      <th>anneedeplantation</th>\n",
       "      <th>courrier</th>\n",
       "      <th>identifiantplu</th>\n",
       "      <th>anneeabattage</th>\n",
       "      <th>essouchement</th>\n",
       "      <th>diametrearbre</th>\n",
       "      <th>causeabattage</th>\n",
       "    </tr>\n",
       "  </thead>\n",
       "  <tbody>\n",
       "    <tr>\n",
       "      <th>count</th>\n",
       "      <td>31736.000000</td>\n",
       "      <td>31736.000000</td>\n",
       "      <td>0.0</td>\n",
       "      <td>30144.000000</td>\n",
       "      <td>0.0</td>\n",
       "      <td>600.000000</td>\n",
       "      <td>0.0</td>\n",
       "      <td>0.0</td>\n",
       "      <td>0.0</td>\n",
       "      <td>0.0</td>\n",
       "    </tr>\n",
       "    <tr>\n",
       "      <th>mean</th>\n",
       "      <td>20393.645544</td>\n",
       "      <td>3.826758</td>\n",
       "      <td>NaN</td>\n",
       "      <td>1990.018644</td>\n",
       "      <td>NaN</td>\n",
       "      <td>87.856667</td>\n",
       "      <td>NaN</td>\n",
       "      <td>NaN</td>\n",
       "      <td>NaN</td>\n",
       "      <td>NaN</td>\n",
       "    </tr>\n",
       "    <tr>\n",
       "      <th>std</th>\n",
       "      <td>12759.662993</td>\n",
       "      <td>1.718467</td>\n",
       "      <td>NaN</td>\n",
       "      <td>17.992314</td>\n",
       "      <td>NaN</td>\n",
       "      <td>60.657935</td>\n",
       "      <td>NaN</td>\n",
       "      <td>NaN</td>\n",
       "      <td>NaN</td>\n",
       "      <td>NaN</td>\n",
       "    </tr>\n",
       "    <tr>\n",
       "      <th>min</th>\n",
       "      <td>1.000000</td>\n",
       "      <td>1.000000</td>\n",
       "      <td>NaN</td>\n",
       "      <td>1900.000000</td>\n",
       "      <td>NaN</td>\n",
       "      <td>2.000000</td>\n",
       "      <td>NaN</td>\n",
       "      <td>NaN</td>\n",
       "      <td>NaN</td>\n",
       "      <td>NaN</td>\n",
       "    </tr>\n",
       "    <tr>\n",
       "      <th>25%</th>\n",
       "      <td>9656.750000</td>\n",
       "      <td>2.000000</td>\n",
       "      <td>NaN</td>\n",
       "      <td>1975.000000</td>\n",
       "      <td>NaN</td>\n",
       "      <td>67.000000</td>\n",
       "      <td>NaN</td>\n",
       "      <td>NaN</td>\n",
       "      <td>NaN</td>\n",
       "      <td>NaN</td>\n",
       "    </tr>\n",
       "    <tr>\n",
       "      <th>50%</th>\n",
       "      <td>19424.500000</td>\n",
       "      <td>4.000000</td>\n",
       "      <td>NaN</td>\n",
       "      <td>1987.000000</td>\n",
       "      <td>NaN</td>\n",
       "      <td>70.000000</td>\n",
       "      <td>NaN</td>\n",
       "      <td>NaN</td>\n",
       "      <td>NaN</td>\n",
       "      <td>NaN</td>\n",
       "    </tr>\n",
       "    <tr>\n",
       "      <th>75%</th>\n",
       "      <td>29254.250000</td>\n",
       "      <td>5.000000</td>\n",
       "      <td>NaN</td>\n",
       "      <td>2006.000000</td>\n",
       "      <td>NaN</td>\n",
       "      <td>70.000000</td>\n",
       "      <td>NaN</td>\n",
       "      <td>NaN</td>\n",
       "      <td>NaN</td>\n",
       "      <td>NaN</td>\n",
       "    </tr>\n",
       "    <tr>\n",
       "      <th>max</th>\n",
       "      <td>46807.000000</td>\n",
       "      <td>6.000000</td>\n",
       "      <td>NaN</td>\n",
       "      <td>2022.000000</td>\n",
       "      <td>NaN</td>\n",
       "      <td>358.000000</td>\n",
       "      <td>NaN</td>\n",
       "      <td>NaN</td>\n",
       "      <td>NaN</td>\n",
       "      <td>NaN</td>\n",
       "    </tr>\n",
       "  </tbody>\n",
       "</table>\n",
       "</div>"
      ],
      "text/plain": [
       "       elem_point_id   adr_secteur  equipe  anneedeplantation  courrier  \\\n",
       "count   31736.000000  31736.000000     0.0       30144.000000       0.0   \n",
       "mean    20393.645544      3.826758     NaN        1990.018644       NaN   \n",
       "std     12759.662993      1.718467     NaN          17.992314       NaN   \n",
       "min         1.000000      1.000000     NaN        1900.000000       NaN   \n",
       "25%      9656.750000      2.000000     NaN        1975.000000       NaN   \n",
       "50%     19424.500000      4.000000     NaN        1987.000000       NaN   \n",
       "75%     29254.250000      5.000000     NaN        2006.000000       NaN   \n",
       "max     46807.000000      6.000000     NaN        2022.000000       NaN   \n",
       "\n",
       "       identifiantplu  anneeabattage  essouchement  diametrearbre  \\\n",
       "count      600.000000            0.0           0.0            0.0   \n",
       "mean        87.856667            NaN           NaN            NaN   \n",
       "std         60.657935            NaN           NaN            NaN   \n",
       "min          2.000000            NaN           NaN            NaN   \n",
       "25%         67.000000            NaN           NaN            NaN   \n",
       "50%         70.000000            NaN           NaN            NaN   \n",
       "75%         70.000000            NaN           NaN            NaN   \n",
       "max        358.000000            NaN           NaN            NaN   \n",
       "\n",
       "       causeabattage  \n",
       "count            0.0  \n",
       "mean             NaN  \n",
       "std              NaN  \n",
       "min              NaN  \n",
       "25%              NaN  \n",
       "50%              NaN  \n",
       "75%              NaN  \n",
       "max              NaN  "
      ]
     },
     "execution_count": 163,
     "metadata": {},
     "output_type": "execute_result"
    }
   ],
   "source": [
    "arbres_gre.describe()"
   ]
  },
  {
   "cell_type": "code",
   "execution_count": 164,
   "metadata": {},
   "outputs": [
    {
     "data": {
      "text/plain": [
       "array([1975., 2009., 1970.,   nan, 1995., 2022., 1993., 1988., 1980.,\n",
       "       2005., 2006., 1978., 1965., 2007., 2010., 1982., 1950., 1955.,\n",
       "       1981., 1971., 2001., 1990., 1977., 1960., 1944., 1991., 2012.,\n",
       "       1992., 1986., 2004., 1924., 1999., 1998., 1979., 2003., 2002.,\n",
       "       1987., 1996., 2000., 1994., 2011., 1984., 1983., 1976., 1985.,\n",
       "       1966., 1989., 1972., 2008., 1969., 1968., 1997., 2013., 2016.,\n",
       "       2018., 2015., 2017., 2019., 2020., 1967., 1973., 1974., 2021.,\n",
       "       2014., 1900., 1959., 1964.])"
      ]
     },
     "execution_count": 164,
     "metadata": {},
     "output_type": "execute_result"
    }
   ],
   "source": [
    "# identifying the existence of nan values or non numeric (.info())\n",
    "arbres_gre['anneedeplantation'].unique()"
   ]
  },
  {
   "cell_type": "code",
   "execution_count": 165,
   "metadata": {},
   "outputs": [],
   "source": [
    "# Dropping nan values on the annedeplantation column\n",
    "# dropping unnecessary columns (checked after when using describe)\n",
    "arbres_gre = (arbres_gre.dropna(subset='anneedeplantation')\n",
    "                        .drop(['equipe','courrier','anneeabattage','essouchement', \n",
    "                               'diametrearbre', 'causeabattage', 'code','elem_point_id','nom',\n",
    "                               'genre','genre_desc', 'categorie', 'categorie_desc', \n",
    "                               'sous_categorie', 'code_parent', 'remarques', 'identifiantplu',\n",
    "                               'intituleprotectionplu','stationmetro'], axis=1)\n",
    "              \n",
    ")"
   ]
  },
  {
   "cell_type": "code",
   "execution_count": null,
   "metadata": {},
   "outputs": [],
   "source": []
  },
  {
   "cell_type": "code",
   "execution_count": 166,
   "metadata": {},
   "outputs": [
    {
     "data": {
      "text/plain": [
       "Index(['sous_categorie_desc', 'code_parent_desc', 'adr_secteur',\n",
       "       'bien_reference', 'genre_bota', 'espece', 'variete',\n",
       "       'stadededeveloppement', 'anneedeplantation', 'raisondeplantation',\n",
       "       'traitementchenilles', 'typeimplantationplu', 'collectivite',\n",
       "       'hauteurarbre', 'portarbre', 'structure', 'forme', 'typenature',\n",
       "       'geo_point_2d'],\n",
       "      dtype='object')"
      ]
     },
     "execution_count": 166,
     "metadata": {},
     "output_type": "execute_result"
    }
   ],
   "source": [
    "arbres_gre.columns"
   ]
  },
  {
   "cell_type": "code",
   "execution_count": 167,
   "metadata": {},
   "outputs": [
    {
     "data": {
      "text/plain": [
       "array([1975., 2009., 1970., 1995., 2022., 1993., 1988., 1980., 2005.,\n",
       "       2006., 1978., 1965., 2007., 2010., 1982., 1950., 1955., 1981.,\n",
       "       1971., 2001., 1990., 1977., 1960., 1944., 1991., 2012., 1992.,\n",
       "       1986., 2004., 1924., 1999., 1998., 1979., 2003., 2002., 1987.,\n",
       "       1996., 2000., 1994., 2011., 1984., 1983., 1976., 1985., 1966.,\n",
       "       1989., 1972., 2008., 1969., 1968., 1997., 2013., 2016., 2018.,\n",
       "       2015., 2017., 2019., 2020., 1967., 1973., 1974., 2021., 2014.,\n",
       "       1900., 1959., 1964.])"
      ]
     },
     "execution_count": 167,
     "metadata": {},
     "output_type": "execute_result"
    }
   ],
   "source": [
    "#checking if nans were dropped\n",
    "arbres_gre['anneedeplantation'].unique()"
   ]
  },
  {
   "cell_type": "code",
   "execution_count": 168,
   "metadata": {},
   "outputs": [
    {
     "data": {
      "text/plain": [
       "anneedeplantation\n",
       "1975.0    3481\n",
       "2001.0    1473\n",
       "1980.0    1397\n",
       "1970.0    1340\n",
       "2015.0     998\n",
       "          ... \n",
       "1944.0      26\n",
       "1959.0      16\n",
       "1924.0      11\n",
       "1964.0       6\n",
       "2021.0       4\n",
       "Name: count, Length: 66, dtype: int64"
      ]
     },
     "execution_count": 168,
     "metadata": {},
     "output_type": "execute_result"
    }
   ],
   "source": [
    "#checking number of years\n",
    "arbres_gre['anneedeplantation'].value_counts()"
   ]
  },
  {
   "cell_type": "code",
   "execution_count": 169,
   "metadata": {},
   "outputs": [
    {
     "data": {
      "image/png": "[encoded data removed]",
      "text/plain": [
       "<Figure size 1000x300 with 1 Axes>"
      ]
     },
     "metadata": {},
     "output_type": "display_data"
    }
   ],
   "source": [
    "arbres_gre.anneedeplantation.hist(bins=50, figsize=(10,3))\n",
    "plt.show()"
   ]
  },
  {
   "cell_type": "code",
   "execution_count": 170,
   "metadata": {},
   "outputs": [],
   "source": [
    "arbres_gre[['long', 'lat']] = arbres_gre['geo_point_2d'].str.split(\",\", expand = True)"
   ]
  },
  {
   "cell_type": "code",
   "execution_count": 171,
   "metadata": {},
   "outputs": [],
   "source": [
    "arbres_gre[['long', 'lat']] = arbres_gre[['long', 'lat']].apply(pd.to_numeric)"
   ]
  },
  {
   "cell_type": "code",
   "execution_count": 172,
   "metadata": {},
   "outputs": [],
   "source": [
    "arbres_gre = arbres_gre.drop(['geo_point_2d'], axis = 1)"
   ]
  },
  {
   "cell_type": "markdown",
   "metadata": {},
   "source": [
    "#### 1.4. Saving as pickle (4/4)"
   ]
  },
  {
   "cell_type": "code",
   "execution_count": 173,
   "metadata": {},
   "outputs": [],
   "source": [
    "arbres_pkl = arbres_gre.to_pickle(\"./arbresgre.pkl\")"
   ]
  },
  {
   "cell_type": "markdown",
   "metadata": {},
   "source": [
    "## Step 2 : Preparing data and evaluating ML models\n",
    "_________________________________________"
   ]
  },
  {
   "cell_type": "code",
   "execution_count": 174,
   "metadata": {},
   "outputs": [],
   "source": [
    "arbres_pk = pd.read_pickle('../ML1/arbresgre.pkl')"
   ]
  },
  {
   "cell_type": "code",
   "execution_count": 175,
   "metadata": {},
   "outputs": [],
   "source": [
    "#Using a funciton that slipts training and test (80/20 ratio)\n",
    "def split_train_test(data, test_ratio):\n",
    "    shuffled_indices = np.random.permutation(len(data))\n",
    "    test_set_size = int(len(data) * test_ratio)\n",
    "    test_indices = shuffled_indices[:test_set_size]\n",
    "    train_indices = shuffled_indices[test_set_size:]\n",
    "    return data.iloc[train_indices], data.iloc[test_indices]"
   ]
  },
  {
   "cell_type": "code",
   "execution_count": 176,
   "metadata": {},
   "outputs": [],
   "source": [
    "#Applying the ration 80/20 to split our data\n",
    "#train_set, test_set = split_train_test (arbres_pk, 0.2)\n",
    "#print(len(train_set))\n",
    "#print(len(test_set))\n"
   ]
  },
  {
   "cell_type": "code",
   "execution_count": 177,
   "metadata": {},
   "outputs": [],
   "source": [
    "# from zlib import crc32\n",
    "\n",
    "# def test_set_check(identifier, test_ratio):\n",
    "#     return crc32(np.int64(identifier)) & 0xffffffff < test_ratio * 2**32\n",
    "\n",
    "# def split_train_test_by_id(data, test_ratio, id_column):\n",
    "#     ids = data[id_column]\n",
    "#     in_test_set = ids.apply(lambda id_: test_set_check(id_, test_ratio))\n",
    "#     return data.loc[~in_test_set], data.loc[in_test_set]"
   ]
  },
  {
   "cell_type": "code",
   "execution_count": 178,
   "metadata": {},
   "outputs": [],
   "source": [
    "# arbres_pk_id = arbres_pk.reset_index()\n",
    "# train_set, test_set = split_train_test_by_id(arbres_pk_id, 0.2, \"index\")\n",
    "# print(len(train_set))\n",
    "# print(len(test_set))"
   ]
  },
  {
   "cell_type": "markdown",
   "metadata": {},
   "source": [
    "##### 2.1 Visualisez l'ensemble de données d'arbres pour comprendre ce qu'il contient"
   ]
  },
  {
   "cell_type": "code",
   "execution_count": 194,
   "metadata": {},
   "outputs": [
    {
     "data": {
      "text/html": [
       "<div>\n",
       "<style scoped>\n",
       "    .dataframe tbody tr th:only-of-type {\n",
       "        vertical-align: middle;\n",
       "    }\n",
       "\n",
       "    .dataframe tbody tr th {\n",
       "        vertical-align: top;\n",
       "    }\n",
       "\n",
       "    .dataframe thead th {\n",
       "        text-align: right;\n",
       "    }\n",
       "</style>\n",
       "<table border=\"1\" class=\"dataframe\">\n",
       "  <thead>\n",
       "    <tr style=\"text-align: right;\">\n",
       "      <th></th>\n",
       "      <th>sous_categorie_desc</th>\n",
       "      <th>code_parent_desc</th>\n",
       "      <th>adr_secteur</th>\n",
       "      <th>bien_reference</th>\n",
       "      <th>genre_bota</th>\n",
       "      <th>espece</th>\n",
       "      <th>variete</th>\n",
       "      <th>stadededeveloppement</th>\n",
       "      <th>anneedeplantation</th>\n",
       "      <th>raisondeplantation</th>\n",
       "      <th>traitementchenilles</th>\n",
       "      <th>typeimplantationplu</th>\n",
       "      <th>collectivite</th>\n",
       "      <th>hauteurarbre</th>\n",
       "      <th>portarbre</th>\n",
       "      <th>structure</th>\n",
       "      <th>forme</th>\n",
       "      <th>typenature</th>\n",
       "      <th>long</th>\n",
       "      <th>lat</th>\n",
       "    </tr>\n",
       "  </thead>\n",
       "  <tbody>\n",
       "    <tr>\n",
       "      <th>0</th>\n",
       "      <td>Arbre de voirie</td>\n",
       "      <td>Av J O Poterne rond point</td>\n",
       "      <td>5</td>\n",
       "      <td>AR11324</td>\n",
       "      <td>Robinia</td>\n",
       "      <td>pseudoacacia</td>\n",
       "      <td>NaN</td>\n",
       "      <td>Arbre adulte</td>\n",
       "      <td>1975.0</td>\n",
       "      <td>NaN</td>\n",
       "      <td>NaN</td>\n",
       "      <td>NaN</td>\n",
       "      <td>Grenoble Alpes Métropole</td>\n",
       "      <td>NaN</td>\n",
       "      <td>NaN</td>\n",
       "      <td>Métropole de Grenoble</td>\n",
       "      <td>Tige</td>\n",
       "      <td>NaN</td>\n",
       "      <td>45.175674</td>\n",
       "      <td>5.749421</td>\n",
       "    </tr>\n",
       "    <tr>\n",
       "      <th>1</th>\n",
       "      <td>Arbre de voirie</td>\n",
       "      <td>Av J O Poterne rond point</td>\n",
       "      <td>5</td>\n",
       "      <td>AR27796</td>\n",
       "      <td>Acer</td>\n",
       "      <td>campestre</td>\n",
       "      <td>NaN</td>\n",
       "      <td>Arbre adulte</td>\n",
       "      <td>1975.0</td>\n",
       "      <td>NaN</td>\n",
       "      <td>NaN</td>\n",
       "      <td>NaN</td>\n",
       "      <td>Grenoble Alpes Métropole</td>\n",
       "      <td>NaN</td>\n",
       "      <td>NaN</td>\n",
       "      <td>Métropole de Grenoble</td>\n",
       "      <td>Tige</td>\n",
       "      <td>NaN</td>\n",
       "      <td>45.175689</td>\n",
       "      <td>5.749450</td>\n",
       "    </tr>\n",
       "    <tr>\n",
       "      <th>2</th>\n",
       "      <td>Arbre d'espaces ouverts</td>\n",
       "      <td>Av J O caisse d'épargne</td>\n",
       "      <td>5</td>\n",
       "      <td>AR4323</td>\n",
       "      <td>Fraxinus</td>\n",
       "      <td>americana</td>\n",
       "      <td>NaN</td>\n",
       "      <td>Arbre adulte</td>\n",
       "      <td>1975.0</td>\n",
       "      <td>NaN</td>\n",
       "      <td>NaN</td>\n",
       "      <td>NaN</td>\n",
       "      <td>Grenoble Alpes Métropole</td>\n",
       "      <td>de 10 m à 20 m</td>\n",
       "      <td>Libre</td>\n",
       "      <td>Métropole de Grenoble</td>\n",
       "      <td>NaN</td>\n",
       "      <td>Libre</td>\n",
       "      <td>45.175403</td>\n",
       "      <td>5.748483</td>\n",
       "    </tr>\n",
       "    <tr>\n",
       "      <th>3</th>\n",
       "      <td>Arbre d'espaces ouverts</td>\n",
       "      <td>Av J O caisse d'épargne</td>\n",
       "      <td>5</td>\n",
       "      <td>AR7132</td>\n",
       "      <td>Fraxinus</td>\n",
       "      <td>americana</td>\n",
       "      <td>NaN</td>\n",
       "      <td>Arbre adulte</td>\n",
       "      <td>1975.0</td>\n",
       "      <td>NaN</td>\n",
       "      <td>NaN</td>\n",
       "      <td>NaN</td>\n",
       "      <td>Ville de Grenoble</td>\n",
       "      <td>de 10 m à 20 m</td>\n",
       "      <td>NaN</td>\n",
       "      <td>Ville de Grenoble</td>\n",
       "      <td>NaN</td>\n",
       "      <td>NaN</td>\n",
       "      <td>45.175424</td>\n",
       "      <td>5.748558</td>\n",
       "    </tr>\n",
       "    <tr>\n",
       "      <th>4</th>\n",
       "      <td>Arbre d'espaces ouverts</td>\n",
       "      <td>R M Riollet cité rouge</td>\n",
       "      <td>5</td>\n",
       "      <td>AR15162</td>\n",
       "      <td>Prunus</td>\n",
       "      <td>avium</td>\n",
       "      <td>NaN</td>\n",
       "      <td>Arbre adulte</td>\n",
       "      <td>2009.0</td>\n",
       "      <td>NaN</td>\n",
       "      <td>NaN</td>\n",
       "      <td>NaN</td>\n",
       "      <td>Ville de Grenoble</td>\n",
       "      <td>Moins de 10 m</td>\n",
       "      <td>NaN</td>\n",
       "      <td>Ville de Grenoble</td>\n",
       "      <td>NaN</td>\n",
       "      <td>NaN</td>\n",
       "      <td>45.177608</td>\n",
       "      <td>5.749357</td>\n",
       "    </tr>\n",
       "  </tbody>\n",
       "</table>\n",
       "</div>"
      ],
      "text/plain": [
       "       sous_categorie_desc           code_parent_desc  adr_secteur  \\\n",
       "0          Arbre de voirie  Av J O Poterne rond point            5   \n",
       "1          Arbre de voirie  Av J O Poterne rond point            5   \n",
       "2  Arbre d'espaces ouverts    Av J O caisse d'épargne            5   \n",
       "3  Arbre d'espaces ouverts    Av J O caisse d'épargne            5   \n",
       "4  Arbre d'espaces ouverts     R M Riollet cité rouge            5   \n",
       "\n",
       "  bien_reference genre_bota        espece variete stadededeveloppement  \\\n",
       "0        AR11324    Robinia  pseudoacacia     NaN         Arbre adulte   \n",
       "1        AR27796       Acer     campestre     NaN         Arbre adulte   \n",
       "2         AR4323   Fraxinus     americana     NaN         Arbre adulte   \n",
       "3         AR7132   Fraxinus     americana     NaN         Arbre adulte   \n",
       "4        AR15162     Prunus         avium     NaN         Arbre adulte   \n",
       "\n",
       "   anneedeplantation raisondeplantation traitementchenilles  \\\n",
       "0             1975.0                NaN                 NaN   \n",
       "1             1975.0                NaN                 NaN   \n",
       "2             1975.0                NaN                 NaN   \n",
       "3             1975.0                NaN                 NaN   \n",
       "4             2009.0                NaN                 NaN   \n",
       "\n",
       "  typeimplantationplu              collectivite    hauteurarbre portarbre  \\\n",
       "0                 NaN  Grenoble Alpes Métropole             NaN       NaN   \n",
       "1                 NaN  Grenoble Alpes Métropole             NaN       NaN   \n",
       "2                 NaN  Grenoble Alpes Métropole  de 10 m à 20 m     Libre   \n",
       "3                 NaN         Ville de Grenoble  de 10 m à 20 m       NaN   \n",
       "4                 NaN         Ville de Grenoble   Moins de 10 m       NaN   \n",
       "\n",
       "               structure forme typenature       long       lat  \n",
       "0  Métropole de Grenoble  Tige        NaN  45.175674  5.749421  \n",
       "1  Métropole de Grenoble  Tige        NaN  45.175689  5.749450  \n",
       "2  Métropole de Grenoble   NaN      Libre  45.175403  5.748483  \n",
       "3      Ville de Grenoble   NaN        NaN  45.175424  5.748558  \n",
       "4      Ville de Grenoble   NaN        NaN  45.177608  5.749357  "
      ]
     },
     "execution_count": 194,
     "metadata": {},
     "output_type": "execute_result"
    }
   ],
   "source": [
    "arbres_pk.head(5)"
   ]
  },
  {
   "cell_type": "code",
   "execution_count": 195,
   "metadata": {},
   "outputs": [
    {
     "name": "stdout",
     "output_type": "stream",
     "text": [
      "<class 'pandas.core.frame.DataFrame'>\n",
      "Index: 30144 entries, 0 to 31735\n",
      "Data columns (total 20 columns):\n",
      " #   Column                Non-Null Count  Dtype  \n",
      "---  ------                --------------  -----  \n",
      " 0   sous_categorie_desc   30144 non-null  object \n",
      " 1   code_parent_desc      30144 non-null  object \n",
      " 2   adr_secteur           30144 non-null  int64  \n",
      " 3   bien_reference        30144 non-null  object \n",
      " 4   genre_bota            30118 non-null  object \n",
      " 5   espece                28753 non-null  object \n",
      " 6   variete               4578 non-null   object \n",
      " 7   stadededeveloppement  27860 non-null  object \n",
      " 8   anneedeplantation     30144 non-null  float64\n",
      " 9   raisondeplantation    3287 non-null   object \n",
      " 10  traitementchenilles   2123 non-null   object \n",
      " 11  typeimplantationplu   5181 non-null   object \n",
      " 12  collectivite          29948 non-null  object \n",
      " 13  hauteurarbre          19995 non-null  object \n",
      " 14  portarbre             13931 non-null  object \n",
      " 15  structure             29924 non-null  object \n",
      " 16  forme                 8576 non-null   object \n",
      " 17  typenature            13931 non-null  object \n",
      " 18  long                  30144 non-null  float64\n",
      " 19  lat                   30144 non-null  float64\n",
      "dtypes: float64(3), int64(1), object(16)\n",
      "memory usage: 4.8+ MB\n"
     ]
    }
   ],
   "source": [
    "arbres_pk.info()"
   ]
  },
  {
   "cell_type": "code",
   "execution_count": 196,
   "metadata": {},
   "outputs": [
    {
     "data": {
      "text/html": [
       "<div>\n",
       "<style scoped>\n",
       "    .dataframe tbody tr th:only-of-type {\n",
       "        vertical-align: middle;\n",
       "    }\n",
       "\n",
       "    .dataframe tbody tr th {\n",
       "        vertical-align: top;\n",
       "    }\n",
       "\n",
       "    .dataframe thead th {\n",
       "        text-align: right;\n",
       "    }\n",
       "</style>\n",
       "<table border=\"1\" class=\"dataframe\">\n",
       "  <thead>\n",
       "    <tr style=\"text-align: right;\">\n",
       "      <th></th>\n",
       "      <th>adr_secteur</th>\n",
       "      <th>anneedeplantation</th>\n",
       "      <th>long</th>\n",
       "      <th>lat</th>\n",
       "    </tr>\n",
       "  </thead>\n",
       "  <tbody>\n",
       "    <tr>\n",
       "      <th>count</th>\n",
       "      <td>30144.000000</td>\n",
       "      <td>30144.000000</td>\n",
       "      <td>30144.000000</td>\n",
       "      <td>30144.000000</td>\n",
       "    </tr>\n",
       "    <tr>\n",
       "      <th>mean</th>\n",
       "      <td>3.828722</td>\n",
       "      <td>1990.018644</td>\n",
       "      <td>45.177280</td>\n",
       "      <td>5.727445</td>\n",
       "    </tr>\n",
       "    <tr>\n",
       "      <th>std</th>\n",
       "      <td>1.706830</td>\n",
       "      <td>17.992314</td>\n",
       "      <td>0.011999</td>\n",
       "      <td>0.012782</td>\n",
       "    </tr>\n",
       "    <tr>\n",
       "      <th>min</th>\n",
       "      <td>1.000000</td>\n",
       "      <td>1900.000000</td>\n",
       "      <td>45.151572</td>\n",
       "      <td>5.697915</td>\n",
       "    </tr>\n",
       "    <tr>\n",
       "      <th>25%</th>\n",
       "      <td>2.000000</td>\n",
       "      <td>1975.000000</td>\n",
       "      <td>45.166299</td>\n",
       "      <td>5.717668</td>\n",
       "    </tr>\n",
       "    <tr>\n",
       "      <th>50%</th>\n",
       "      <td>4.000000</td>\n",
       "      <td>1987.000000</td>\n",
       "      <td>45.175925</td>\n",
       "      <td>5.729491</td>\n",
       "    </tr>\n",
       "    <tr>\n",
       "      <th>75%</th>\n",
       "      <td>5.000000</td>\n",
       "      <td>2006.000000</td>\n",
       "      <td>45.187461</td>\n",
       "      <td>5.737417</td>\n",
       "    </tr>\n",
       "    <tr>\n",
       "      <th>max</th>\n",
       "      <td>6.000000</td>\n",
       "      <td>2022.000000</td>\n",
       "      <td>45.224825</td>\n",
       "      <td>5.798704</td>\n",
       "    </tr>\n",
       "  </tbody>\n",
       "</table>\n",
       "</div>"
      ],
      "text/plain": [
       "        adr_secteur  anneedeplantation          long           lat\n",
       "count  30144.000000       30144.000000  30144.000000  30144.000000\n",
       "mean       3.828722        1990.018644     45.177280      5.727445\n",
       "std        1.706830          17.992314      0.011999      0.012782\n",
       "min        1.000000        1900.000000     45.151572      5.697915\n",
       "25%        2.000000        1975.000000     45.166299      5.717668\n",
       "50%        4.000000        1987.000000     45.175925      5.729491\n",
       "75%        5.000000        2006.000000     45.187461      5.737417\n",
       "max        6.000000        2022.000000     45.224825      5.798704"
      ]
     },
     "execution_count": 196,
     "metadata": {},
     "output_type": "execute_result"
    }
   ],
   "source": [
    "arbres_pk.describe()"
   ]
  },
  {
   "cell_type": "markdown",
   "metadata": {},
   "source": [
    "##### 2.2. Créer un modèle naïf à utiliser comme référence pour les performances"
   ]
  },
  {
   "cell_type": "code",
   "execution_count": 205,
   "metadata": {},
   "outputs": [],
   "source": [
    "from sklearn.model_selection import train_test_split\n",
    "\n",
    "X = arbres_pk.drop(['anneedeplantation'], axis=1)\n",
    "y = arbres_pk['anneedeplantation']\n",
    "X_train, X_test, y_train, y_test = train_test_split(X, y, test_size=0.2, random_state=42)"
   ]
  },
  {
   "cell_type": "code",
   "execution_count": 210,
   "metadata": {},
   "outputs": [
    {
     "data": {
      "text/plain": [
       "array([1987., 1987., 1987., ..., 1987., 1987., 1987.])"
      ]
     },
     "execution_count": 210,
     "metadata": {},
     "output_type": "execute_result"
    }
   ],
   "source": [
    "y_pred_naiv = np.zeros_like(y_test) + y_train.median()\n",
    "y_pred_naiv"
   ]
  },
  {
   "cell_type": "code",
   "execution_count": 221,
   "metadata": {},
   "outputs": [
    {
     "name": "stdout",
     "output_type": "stream",
     "text": [
      "MODEL NAIF -- MEDIAN\n",
      "MSE = 332.0\n",
      "RMSE = 18.2\n",
      "MAE = 15.5\n"
     ]
    }
   ],
   "source": [
    "from sklearn.metrics import mean_squared_error, mean_absolute_error\n",
    "\n",
    "msg = f\"MODEL NAIF -- MEDIAN\\nMSE = {mean_squared_error(y_test, y_pred_naiv):.1f}\\nRMSE = {(mean_squared_error(y_test, y_pred_naiv))**0.5:.1f}\\nMAE = {mean_absolute_error(y_test, y_pred_naiv):.1f}\"\n",
    "print(msg)\n"
   ]
  },
  {
   "cell_type": "code",
   "execution_count": 180,
   "metadata": {},
   "outputs": [
    {
     "name": "stdout",
     "output_type": "stream",
     "text": [
      "24115\n",
      "6029\n"
     ]
    }
   ],
   "source": [
    "# print(len(train_set))\n",
    "# print(len(test_set))"
   ]
  },
  {
   "cell_type": "code",
   "execution_count": null,
   "metadata": {},
   "outputs": [],
   "source": []
  },
  {
   "cell_type": "code",
   "execution_count": null,
   "metadata": {},
   "outputs": [],
   "source": []
  }
 ],
 "metadata": {
  "kernelspec": {
   "display_name": "stat3",
   "language": "python",
   "name": "python3"
  },
  "language_info": {
   "codemirror_mode": {
    "name": "ipython",
    "version": 3
   },
   "file_extension": ".py",
   "mimetype": "text/x-python",
   "name": "python",
   "nbconvert_exporter": "python",
   "pygments_lexer": "ipython3",
   "version": "3.11.5"
  }
 },
 "nbformat": 4,
 "nbformat_minor": 2
}
